{
 "cells": [
  {
   "cell_type": "markdown",
   "metadata": {},
   "source": [
    "Green Line Calculator "
   ]
  },
  {
   "cell_type": "code",
   "execution_count": 33,
   "metadata": {
    "scrolled": true
   },
   "outputs": [],
   "source": [
    "#Importing the required librabries\n",
    "import yfinance as yf\n",
    "import datetime as dt\n",
    "import pandas as pd\n",
    "from pandas_datareader import data as pdr"
   ]
  },
  {
   "cell_type": "code",
   "execution_count": 34,
   "metadata": {},
   "outputs": [],
   "source": [
    "#Defining the dataframe using the yahoo data\n",
    "yf.pdr_override()\n",
    "start = dt.datetime(1980, 12,1)\n",
    "now = dt.datetime.now()\n",
    "stock = \"\""
   ]
  },
  {
   "cell_type": "code",
   "execution_count": 36,
   "metadata": {
    "scrolled": true
   },
   "outputs": [
    {
     "name": "stdout",
     "output_type": "stream",
     "text": [
      "Enter the stock symbol: twlo\n",
      "[*********************100%%**********************]  1 of 1 completed\n",
      "70.95999908447266\n",
      "151.0\n",
      "457.29998779296875\n",
      "--\n",
      "Last Green Line: 457.29998779296875 on 2021-02-28 00:00:00.\n",
      "Enter the stock symbol: quit\n"
     ]
    }
   ],
   "source": [
    "stock = input(\"Enter the stock symbol: \")\n",
    "while stock != \"quit\":\n",
    "    \n",
    "    #Initialising the dataframe\n",
    "    df = pdr.get_data_yahoo(stock, start, now)\n",
    "    \n",
    "    #Dropping all the rows with values below 1000 in the \"Volume\" column\n",
    "    df.drop(df[df[\"Volume\"]<1000].index, inplace = True)\n",
    "    \n",
    "    #Creating a dataframe grouped by months\n",
    "    dfmonth = df.groupby(pd.Grouper(freq = \"M\"))[\"High\"].max()\n",
    "   \n",
    "    #Date for last green line value\n",
    "    gldate = 0\n",
    "    \n",
    "    #Last green line value\n",
    "    lastGLV = 0\n",
    "    \n",
    "    #Date for current green line value\n",
    "    currentDate = \"\"\n",
    "    \n",
    "    #Current green line value\n",
    "    currentGLV = 0\n",
    "    \n",
    "    for index, value in dfmonth.items():\n",
    "            if value > currentGLV:\n",
    "                currentGLV = value\n",
    "                currentDate = index\n",
    "                counter = 0\n",
    "            if value < currentGLV:\n",
    "                counter = counter + 1\n",
    "                if counter == 3 and ((index.month != now.month) or (index.year != now.year)):\n",
    "                    if currentGLV != lastGLV:\n",
    "                        print(currentGLV)\n",
    "                        gldate = currentDate\n",
    "                        lastGLV = currentGLV\n",
    "                        counter = 0\n",
    "    print(\"--\")\n",
    "    \n",
    "    if (lastGLV == 0):\n",
    "        message = stock + \" has not formed a green line yet.\"\n",
    "    else:\n",
    "        message = \"Last Green Line: \" + str(lastGLV) + \" on \" + str(gldate) + \".\"\n",
    "    print(message)\n",
    "    stock  = input(\"Enter the stock symbol: \")"
   ]
  }
 ],
 "metadata": {
  "kernelspec": {
   "display_name": "Python 3",
   "language": "python",
   "name": "python3"
  },
  "language_info": {
   "codemirror_mode": {
    "name": "ipython",
    "version": 3
   },
   "file_extension": ".py",
   "mimetype": "text/x-python",
   "name": "python",
   "nbconvert_exporter": "python",
   "pygments_lexer": "ipython3",
   "version": "3.8.5"
  }
 },
 "nbformat": 4,
 "nbformat_minor": 4
}
