{
 "cells": [
  {
   "cell_type": "code",
   "execution_count": 39,
   "metadata": {},
   "outputs": [],
   "source": [
    "import yfinance as yf\n",
    "import datetime as dt\n",
    "import pandas as pd\n",
    "from pandas_datareader import data as pdr\n",
    "import matplotlib.pyplot as plt"
   ]
  },
  {
   "cell_type": "code",
   "execution_count": 40,
   "metadata": {},
   "outputs": [],
   "source": [
    "yf.pdr_override()\n",
    "start = dt.datetime(2019, 6,1)\n",
    "now = dt.datetime.now()"
   ]
  },
  {
   "cell_type": "code",
   "execution_count": 45,
   "metadata": {},
   "outputs": [
    {
     "name": "stdout",
     "output_type": "stream",
     "text": [
      "Enter the stock symbol: AAPL\n",
      "[*********************100%%**********************]  1 of 1 completed\n"
     ]
    },
    {
     "data": {
      "image/png": "[encoded data removed]",
      "text/plain": [
       "<Figure size 432x288 with 1 Axes>"
      ]
     },
     "metadata": {
      "needs_background": "light"
     },
     "output_type": "display_data"
    },
    {
     "name": "stdout",
     "output_type": "stream",
     "text": [
      "\n",
      "51.27: 2019-07-05 00:00:00\n",
      "55.34: 2019-07-31 00:00:00\n",
      "53.61: 2019-08-22 00:00:00\n",
      "56.6: 2019-09-12 00:00:00\n",
      "67.0: 2019-11-19 00:00:00\n",
      "81.96: 2020-01-29 00:00:00\n",
      "81.81: 2020-02-12 00:00:00\n",
      "76.0: 2020-03-03 00:00:00\n",
      "72.06: 2020-04-14 00:00:00\n",
      "79.92: 2020-05-12 00:00:00\n",
      "81.06: 2020-05-26 00:00:00\n",
      "93.1: 2020-06-23 00:00:00\n",
      "99.96: 2020-07-13 00:00:00\n",
      "137.98: 2020-09-02 00:00:00\n",
      "117.72: 2020-10-01 00:00:00\n",
      "125.39: 2020-10-13 00:00:00\n",
      "121.99: 2020-11-09 00:00:00\n",
      "138.79: 2020-12-29 00:00:00\n",
      "145.09: 2021-01-25 00:00:00\n",
      "137.88: 2021-02-09 00:00:00\n",
      "128.72: 2021-03-02 00:00:00\n",
      "127.22: 2021-03-16 00:00:00\n",
      "135.53: 2021-04-20 00:00:00\n",
      "137.07: 2021-04-29 00:00:00\n",
      "128.32: 2021-05-25 00:00:00\n",
      "150.0: 2021-07-15 00:00:00\n",
      "149.83: 2021-07-26 00:00:00\n",
      "151.68: 2021-08-17 00:00:00\n",
      "157.26: 2021-09-07 00:00:00\n",
      "153.17: 2021-10-28 00:00:00\n",
      "165.7: 2021-11-22 00:00:00\n",
      "182.13: 2021-12-13 00:00:00\n",
      "182.94: 2022-01-04 00:00:00\n",
      "176.65: 2022-02-09 00:00:00\n",
      "168.91: 2022-03-03 00:00:00\n",
      "179.61: 2022-03-30 00:00:00\n",
      "171.53: 2022-04-21 00:00:00\n",
      "166.48: 2022-05-04 00:00:00\n",
      "151.74: 2022-06-01 00:00:00\n",
      "143.49: 2022-06-27 00:00:00\n",
      "176.15: 2022-08-17 00:00:00\n",
      "164.26: 2022-09-12 00:00:00\n",
      "158.74: 2022-09-21 00:00:00\n",
      "147.54: 2022-10-06 00:00:00\n",
      "157.5: 2022-10-28 00:00:00\n",
      "153.59: 2022-11-15 00:00:00\n",
      "150.92: 2022-12-05 00:00:00\n",
      "149.97: 2022-12-13 00:00:00\n",
      "157.38: 2023-02-03 00:00:00\n",
      "156.33: 2023-02-16 00:00:00\n",
      "156.3: 2023-03-06 00:00:00\n",
      "162.14: 2023-03-22 00:00:00\n",
      "166.84: 2023-04-04 00:00:00\n",
      "168.16: 2023-04-19 00:00:00\n",
      "176.39: 2023-05-19 00:00:00\n",
      "184.95: 2023-06-05 00:00:00\n",
      "194.48: 2023-06-30 00:00:00\n",
      "198.23: 2023-07-19 00:00:00\n",
      "197.2: 2023-07-27 00:00:00\n",
      "189.98: 2023-09-05 00:00:00\n",
      "179.7: 2023-09-20 00:00:00\n",
      "182.34: 2023-10-12 00:00:00\n",
      "192.93: 2023-11-22 00:00:00\n",
      "199.62: 2023-12-14 00:00:00\n",
      "Enter the stock symbol: quit\n"
     ]
    }
   ],
   "source": [
    "stock = input(\"Enter the stock symbol: \")\n",
    "while stock != \"quit\":\n",
    "    df = pdr.get_data_yahoo(stock, start, now)\n",
    "    df[\"High\"].plot(label = \"high\")\n",
    "    plt.show()\n",
    "   \n",
    "    pivots = []\n",
    "    dates = []\n",
    "    counter = 0\n",
    "    lastPivot = 0\n",
    "    Range = [0,0,0,0,0,0,0,0,0,0]\n",
    "    dateRange = [0,0,0,0,0,0,0,0,0,0]\n",
    "    \n",
    "    for i in df.index:\n",
    "        currentMax = max(Range, default = 0)\n",
    "        value = round(df[\"High\"][i],2)\n",
    "        \n",
    "        Range = Range[1:9]\n",
    "        Range.append(value)\n",
    "        \n",
    "        dateRange = dateRange[1:9]\n",
    "        dateRange.append(i)\n",
    "        \n",
    "        if currentMax == max(Range, default = 0):\n",
    "            counter += 1\n",
    "        else:\n",
    "            counter = 0\n",
    "            \n",
    "        if counter == 5:\n",
    "            lastPivot = currentMax\n",
    "            dateLoc = Range.index(lastPivot)\n",
    "            lastDate = dateRange[dateLoc]\n",
    "            pivots.append(lastPivot)\n",
    "            dates.append(lastDate)\n",
    "            \n",
    "    print()\n",
    "    #print(str(pivots))\n",
    "    #print(str(dates))\n",
    "    \n",
    "    for index in range(len(pivots)):\n",
    "        print(str(pivots[index]) + \": \" + str(dates[index]))\n",
    "        \n",
    "    stock = input(\"Enter the stock symbol: \")"
   ]
  },
  {
   "cell_type": "code",
   "execution_count": null,
   "metadata": {},
   "outputs": [],
   "source": [
    "timeD = dt.timedelta(days = 30)\n",
    "plt.plot_date([[dates[index], dates[index] + timeD], \n",
    "               [pivots[index], pivots[index]], \n",
    "               linestyle = \"-\", linewidth=2, marker=\",\")"
   ]
  }
 ],
 "metadata": {
  "kernelspec": {
   "display_name": "Python 3",
   "language": "python",
   "name": "python3"
  },
  "language_info": {
   "codemirror_mode": {
    "name": "ipython",
    "version": 3
   },
   "file_extension": ".py",
   "mimetype": "text/x-python",
   "name": "python",
   "nbconvert_exporter": "python",
   "pygments_lexer": "ipython3",
   "version": "3.8.5"
  }
 },
 "nbformat": 4,
 "nbformat_minor": 4
}
